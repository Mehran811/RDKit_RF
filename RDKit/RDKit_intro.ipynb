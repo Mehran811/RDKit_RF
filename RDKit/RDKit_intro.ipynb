{
  "cells": [
    {
      "cell_type": "code",
      "execution_count": 5,
      "metadata": {},
      "outputs": [
        {
          "name": "stdout",
          "output_type": "stream",
          "text": [
            "<rdkit.Chem.rdchem.Mol object at 0x00000213669BA0A0>\n"
          ]
        }
      ],
      "source": [
        "from rdkit import Chem\n",
        "print(Chem.MolFromSmiles('CCO'))  # Should return a molecule object\n"
      ]
    },
    {
      "cell_type": "code",
      "execution_count": 6,
      "metadata": {
        "id": "RXg_4dQFwKPg"
      },
      "outputs": [],
      "source": [
        "from rdkit import Chem\n",
        "from rdkit.Chem import Draw\n",
        "from rdkit.Chem.Draw import IPythonConsole\n",
        "from rdkit.Chem import Descriptors\n",
        "from rdkit.Chem import AllChem\n",
        "from rdkit import DataStructs\n",
        "import numpy as np"
      ]
    },
    {
      "cell_type": "code",
      "execution_count": 15,
      "metadata": {
        "colab": {
          "base_uri": "https://localhost:8080/",
          "height": 167
        },
        "id": "BH-Wy6z0Uch8",
        "outputId": "09b044b7-7c21-4472-d642-f547fec49457"
      },
      "outputs": [
        {
          "data": {
            "image/png": "[encoded data removed]",
            "text/plain": [
              "<rdkit.Chem.rdchem.Mol at 0x213673b8350>"
            ]
          },
          "execution_count": 15,
          "metadata": {},
          "output_type": "execute_result"
        }
      ],
      "source": [
        "mol = Chem.MolFromSmiles('CCCCC')\n",
        "mol"
      ]
    },
    {
      "cell_type": "code",
      "execution_count": 8,
      "metadata": {
        "colab": {
          "base_uri": "https://localhost:8080/",
          "height": 36
        },
        "id": "ztS1OAruVBx3",
        "outputId": "50d0ad57-bb90-49cb-bc58-64be97057c19"
      },
      "outputs": [
        {
          "data": {
            "text/plain": [
              "'CCCCC'"
            ]
          },
          "execution_count": 8,
          "metadata": {},
          "output_type": "execute_result"
        }
      ],
      "source": [
        "smiles = Chem.MolToSmiles(mol)\n",
        "smiles"
      ]
    },
    {
      "cell_type": "code",
      "execution_count": 9,
      "metadata": {
        "colab": {
          "base_uri": "https://localhost:8080/",
          "height": 217
        },
        "id": "bAdXaZcKYEgA",
        "outputId": "a4fc5e49-37a6-4888-8477-fde8085e774f"
      },
      "outputs": [
        {
          "data": {
            "image/png": "[encoded data removed]",
            "text/plain": [
              "<IPython.core.display.Image object>"
            ]
          },
          "execution_count": 9,
          "metadata": {},
          "output_type": "execute_result"
        }
      ],
      "source": [
        "smiles_list = ['c1ccccc1' , 'CCCSCC' , 'CCCC']\n",
        "\n",
        "#Show 2d molecules from smiles\n",
        "mol_list = []\n",
        "for smiles in smiles_list:\n",
        "  mol = Chem.MolFromSmiles(smiles)\n",
        "  mol_list.append(mol)\n",
        "\n",
        "#When we want to show more than one molecules\n",
        "img = Draw.MolsToGridImage(mol_list, molsPerRow=3)\n",
        "img"
      ]
    },
    {
      "cell_type": "code",
      "execution_count": 10,
      "metadata": {
        "colab": {
          "base_uri": "https://localhost:8080/"
        },
        "id": "YTV_Ht7uZ8v4",
        "outputId": "f7679360-e6c9-4439-ac6c-8ec86a971a57"
      },
      "outputs": [
        {
          "name": "stdout",
          "output_type": "stream",
          "text": [
            "False\n",
            "True\n",
            "False\n"
          ]
        }
      ],
      "source": [
        "#When we want to check if it has something in the items in a list\n",
        "pattern = Chem.MolFromSmiles('S')\n",
        "\n",
        "for mol in mol_list:\n",
        "  print(mol.HasSubstructMatch(pattern))\n"
      ]
    },
    {
      "cell_type": "code",
      "execution_count": 16,
      "metadata": {
        "colab": {
          "base_uri": "https://localhost:8080/",
          "height": 167
        },
        "id": "2Cc2yC32fVMf",
        "outputId": "7abb9984-210d-4a00-9775-e0e5a444642e"
      },
      "outputs": [
        {
          "data": {
            "image/png": "[encoded data removed]",
            "text/plain": [
              "<rdkit.Chem.rdchem.Mol at 0x213673b9ee0>"
            ]
          },
          "execution_count": 16,
          "metadata": {},
          "output_type": "execute_result"
        }
      ],
      "source": [
        "#To see what we are searching as our pattern\n",
        "Chem.MolFromSmiles('S')"
      ]
    },
    {
      "cell_type": "code",
      "execution_count": 12,
      "metadata": {
        "colab": {
          "base_uri": "https://localhost:8080/"
        },
        "id": "_qoO5KvMfYoz",
        "outputId": "0992262d-14b7-49ff-c802-cdec4b8a7fdb"
      },
      "outputs": [
        {
          "name": "stdout",
          "output_type": "stream",
          "text": [
            "True\n",
            "False\n",
            "False\n"
          ]
        }
      ],
      "source": [
        "#Smarts: When we want to check if it has something general like rings in a list\n",
        "pattern = Chem.MolFromSmarts('[r]')\n",
        "# [r6] for Hexagon, [r5] for pantagon ...\n",
        "for mol in mol_list:\n",
        "  print(mol.HasSubstructMatch(pattern))\n"
      ]
    },
    {
      "cell_type": "markdown",
      "metadata": {
        "colab": {
          "base_uri": "https://localhost:8080/"
        },
        "id": "TqoNeB_r1fw3",
        "outputId": "b536b5a7-071b-4e1f-e1c9-7ff8d41a0b41"
      },
      "source": [
        "import requests\n",
        "morphine_url = 'https://go.drugbank.com/structures/small_molecule_drugs/DB00295.mol'\n",
        "morphine_mol = requests.get(morphine_url).text\n",
        "print(morphine_mol[:500])  # Show first 500 characters\n",
        "#morphine = Chem.MolFromMolBlock(morphine_mol)\n",
        "#morphine"
      ]
    },
    {
      "cell_type": "markdown",
      "metadata": {},
      "source": [
        "headers = {\n",
        "    'User-Agent': 'Mozilla/5.0 (Windows NT 10.0; Win64; x64) AppleWebKit/537.36 (KHTML, like Gecko) Chrome/58.0.3029.110 Safari/537.3'\n",
        "}\n",
        "response = requests.get(morphine_url, headers=headers) #headers in case of helping with Authentication \n",
        "from rdkit.Chem import AllChem\n",
        "morphine = AllChem.MolFromMolBlock(requests.get(morphine_url).text)\n",
        "morphine_mol = morphine_mol.strip()  # Remove leading/trailing whitespace\n",
        "morphine\n"
      ]
    },
    {
      "cell_type": "markdown",
      "metadata": {},
      "source": [
        "# Introduction part 2"
      ]
    },
    {
      "cell_type": "code",
      "execution_count": 34,
      "metadata": {},
      "outputs": [
        {
          "data": {
            "image/png": "[encoded data removed]",
            "text/plain": [
              "<rdkit.Chem.rdchem.Mol at 0x213669b9cb0>"
            ]
          },
          "execution_count": 34,
          "metadata": {},
          "output_type": "execute_result"
        }
      ],
      "source": [
        "benzene = mol_list[0]\n",
        "benzene "
      ]
    },
    {
      "cell_type": "code",
      "execution_count": 37,
      "metadata": {},
      "outputs": [
        {
          "name": "stdout",
          "output_type": "stream",
          "text": [
            "[0. 0. 0. ... 0. 0. 0.]\n"
          ]
        },
        {
          "name": "stderr",
          "output_type": "stream",
          "text": [
            "[19:02:18] DEPRECATION WARNING: please use MorganGenerator\n"
          ]
        }
      ],
      "source": [
        "fp = AllChem.GetMorganFingerprintAsBitVect(benzene, 2, nBits=1024)\n",
        "\n",
        "fp_arr = np.zeros((1,))\n",
        "\n",
        "DataStructs.ConvertToNumpyArray(fp, fp_arr)\n",
        "\n",
        "print(fp_arr)"
      ]
    },
    {
      "cell_type": "code",
      "execution_count": 39,
      "metadata": {},
      "outputs": [
        {
          "data": {
            "text/plain": [
              "<rdkit.DataStructs.cDataStructs.ULongSparseIntVect at 0x213693a0350>"
            ]
          },
          "execution_count": 39,
          "metadata": {},
          "output_type": "execute_result"
        }
      ],
      "source": [
        "fpgen = AllChem.GetMorganGenerator(radius=2)\n",
        "m1 = Chem.MolFromSmiles('Cc1ccccc1')\n",
        "fp1 = fpgen.GetSparseCountFingerprint(benzene)\n",
        "fp1"
      ]
    }
  ],
  "metadata": {
    "colab": {
      "provenance": []
    },
    "kernelspec": {
      "display_name": "base",
      "language": "python",
      "name": "python3"
    },
    "language_info": {
      "codemirror_mode": {
        "name": "ipython",
        "version": 3
      },
      "file_extension": ".py",
      "mimetype": "text/x-python",
      "name": "python",
      "nbconvert_exporter": "python",
      "pygments_lexer": "ipython3",
      "version": "3.12.9"
    }
  },
  "nbformat": 4,
  "nbformat_minor": 0
}
