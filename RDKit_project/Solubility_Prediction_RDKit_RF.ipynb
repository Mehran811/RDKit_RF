{
 "cells": [
  {
   "cell_type": "markdown",
   "metadata": {},
   "source": [
    "# Solubility Prediction by Random Forest Algorithem Using RDKit 2D and 3D Descriptors"
   ]
  },
  {
   "cell_type": "markdown",
   "metadata": {},
   "source": [
    "**The formula is modeling solubility as a linear function of three factors:**\n",
    "\n",
    "- logP (lipophilicity): Solubility decreases as logP increases (more hydrophobic molecules are less soluble in water).\n",
    "\n",
    "- Molecular weight (mol_wt): Solubility increases slightly as molecular weight increases.\n",
    "\n",
    "- Hydrogen bond donors (h_bond_donors): Solubility decreases as the number of hydrogen bond donors increases."
   ]
  },
  {
   "cell_type": "markdown",
   "metadata": {},
   "source": [
    "## 1. Create database"
   ]
  },
  {
   "cell_type": "code",
   "execution_count": null,
   "metadata": {},
   "outputs": [
    {
     "name": "stderr",
     "output_type": "stream",
     "text": [
      "[23:39:18] SMILES Parse Error: syntax error while parsing: InvalidSMILES123\n",
      "[23:39:18] SMILES Parse Error: check for mistakes around position 3:\n",
      "[23:39:18] InvalidSMILES123\n",
      "[23:39:18] ~~^\n",
      "[23:39:18] SMILES Parse Error: Failed parsing SMILES 'InvalidSMILES123' for input: 'InvalidSMILES123'\n",
      "[23:39:18] SMILES Parse Error: syntax error while parsing: NaCl\n",
      "[23:39:18] SMILES Parse Error: check for mistakes around position 2:\n",
      "[23:39:18] NaCl\n",
      "[23:39:18] ~^\n",
      "[23:39:18] SMILES Parse Error: Failed parsing SMILES 'NaCl' for input: 'NaCl'\n",
      "[23:39:18] SMILES Parse Error: syntax error while parsing: InvalidSMILES123\n",
      "[23:39:18] SMILES Parse Error: check for mistakes around position 3:\n",
      "[23:39:18] InvalidSMILES123\n",
      "[23:39:18] ~~^\n",
      "[23:39:18] SMILES Parse Error: Failed parsing SMILES 'InvalidSMILES123' for input: 'InvalidSMILES123'\n",
      "[23:39:18] SMILES Parse Error: syntax error while parsing: NaCl\n",
      "[23:39:18] SMILES Parse Error: check for mistakes around position 2:\n",
      "[23:39:18] NaCl\n",
      "[23:39:18] ~^\n",
      "[23:39:18] SMILES Parse Error: Failed parsing SMILES 'NaCl' for input: 'NaCl'\n",
      "[23:39:18] SMILES Parse Error: syntax error while parsing: InvalidSMILES123\n",
      "[23:39:18] SMILES Parse Error: check for mistakes around position 3:\n",
      "[23:39:18] InvalidSMILES123\n",
      "[23:39:18] ~~^\n",
      "[23:39:18] SMILES Parse Error: Failed parsing SMILES 'InvalidSMILES123' for input: 'InvalidSMILES123'\n",
      "[23:39:18] SMILES Parse Error: syntax error while parsing: NaCl\n",
      "[23:39:18] SMILES Parse Error: check for mistakes around position 2:\n",
      "[23:39:18] NaCl\n",
      "[23:39:18] ~^\n",
      "[23:39:18] SMILES Parse Error: Failed parsing SMILES 'NaCl' for input: 'NaCl'\n",
      "[23:39:18] SMILES Parse Error: syntax error while parsing: InvalidSMILES123\n",
      "[23:39:18] SMILES Parse Error: check for mistakes around position 3:\n",
      "[23:39:18] InvalidSMILES123\n",
      "[23:39:18] ~~^\n",
      "[23:39:18] SMILES Parse Error: Failed parsing SMILES 'InvalidSMILES123' for input: 'InvalidSMILES123'\n",
      "[23:39:18] SMILES Parse Error: syntax error while parsing: NaCl\n",
      "[23:39:18] SMILES Parse Error: check for mistakes around position 2:\n",
      "[23:39:18] NaCl\n",
      "[23:39:18] ~^\n",
      "[23:39:18] SMILES Parse Error: Failed parsing SMILES 'NaCl' for input: 'NaCl'\n",
      "[23:39:18] SMILES Parse Error: syntax error while parsing: InvalidSMILES123\n",
      "[23:39:18] SMILES Parse Error: check for mistakes around position 3:\n",
      "[23:39:18] InvalidSMILES123\n",
      "[23:39:18] ~~^\n",
      "[23:39:18] SMILES Parse Error: Failed parsing SMILES 'InvalidSMILES123' for input: 'InvalidSMILES123'\n",
      "[23:39:18] SMILES Parse Error: syntax error while parsing: NaCl\n",
      "[23:39:18] SMILES Parse Error: check for mistakes around position 2:\n",
      "[23:39:18] NaCl\n",
      "[23:39:18] ~^\n",
      "[23:39:18] SMILES Parse Error: Failed parsing SMILES 'NaCl' for input: 'NaCl'\n",
      "[23:39:18] SMILES Parse Error: syntax error while parsing: InvalidSMILES123\n",
      "[23:39:18] SMILES Parse Error: check for mistakes around position 3:\n",
      "[23:39:18] InvalidSMILES123\n",
      "[23:39:18] ~~^\n",
      "[23:39:18] SMILES Parse Error: Failed parsing SMILES 'InvalidSMILES123' for input: 'InvalidSMILES123'\n",
      "[23:39:18] SMILES Parse Error: syntax error while parsing: NaCl\n",
      "[23:39:18] SMILES Parse Error: check for mistakes around position 2:\n",
      "[23:39:18] NaCl\n",
      "[23:39:18] ~^\n",
      "[23:39:18] SMILES Parse Error: Failed parsing SMILES 'NaCl' for input: 'NaCl'\n",
      "[23:39:18] SMILES Parse Error: syntax error while parsing: InvalidSMILES123\n",
      "[23:39:18] SMILES Parse Error: check for mistakes around position 3:\n",
      "[23:39:18] InvalidSMILES123\n",
      "[23:39:18] ~~^\n",
      "[23:39:18] SMILES Parse Error: Failed parsing SMILES 'InvalidSMILES123' for input: 'InvalidSMILES123'\n",
      "[23:39:18] SMILES Parse Error: syntax error while parsing: NaCl\n",
      "[23:39:18] SMILES Parse Error: check for mistakes around position 2:\n",
      "[23:39:18] NaCl\n",
      "[23:39:18] ~^\n",
      "[23:39:18] SMILES Parse Error: Failed parsing SMILES 'NaCl' for input: 'NaCl'\n",
      "[23:39:18] SMILES Parse Error: syntax error while parsing: InvalidSMILES123\n",
      "[23:39:18] SMILES Parse Error: check for mistakes around position 3:\n",
      "[23:39:18] InvalidSMILES123\n",
      "[23:39:18] ~~^\n",
      "[23:39:18] SMILES Parse Error: Failed parsing SMILES 'InvalidSMILES123' for input: 'InvalidSMILES123'\n",
      "[23:39:18] SMILES Parse Error: syntax error while parsing: NaCl\n",
      "[23:39:18] SMILES Parse Error: check for mistakes around position 2:\n",
      "[23:39:18] NaCl\n",
      "[23:39:18] ~^\n",
      "[23:39:18] SMILES Parse Error: Failed parsing SMILES 'NaCl' for input: 'NaCl'\n",
      "[23:39:18] SMILES Parse Error: syntax error while parsing: InvalidSMILES123\n",
      "[23:39:18] SMILES Parse Error: check for mistakes around position 3:\n",
      "[23:39:18] InvalidSMILES123\n",
      "[23:39:18] ~~^\n",
      "[23:39:18] SMILES Parse Error: Failed parsing SMILES 'InvalidSMILES123' for input: 'InvalidSMILES123'\n",
      "[23:39:18] SMILES Parse Error: syntax error while parsing: NaCl\n",
      "[23:39:18] SMILES Parse Error: check for mistakes around position 2:\n",
      "[23:39:18] NaCl\n",
      "[23:39:18] ~^\n",
      "[23:39:18] SMILES Parse Error: Failed parsing SMILES 'NaCl' for input: 'NaCl'\n",
      "[23:39:18] SMILES Parse Error: syntax error while parsing: InvalidSMILES123\n",
      "[23:39:18] SMILES Parse Error: check for mistakes around position 3:\n",
      "[23:39:18] InvalidSMILES123\n",
      "[23:39:18] ~~^\n",
      "[23:39:18] SMILES Parse Error: Failed parsing SMILES 'InvalidSMILES123' for input: 'InvalidSMILES123'\n",
      "[23:39:18] SMILES Parse Error: syntax error while parsing: NaCl\n",
      "[23:39:18] SMILES Parse Error: check for mistakes around position 2:\n",
      "[23:39:18] NaCl\n",
      "[23:39:18] ~^\n",
      "[23:39:18] SMILES Parse Error: Failed parsing SMILES 'NaCl' for input: 'NaCl'\n"
     ]
    }
   ],
   "source": [
    "import pandas as pd\n",
    "from rdkit import Chem\n",
    "from rdkit.Chem import Descriptors\n",
    "import numpy as np\n",
    "\n",
    "# Generate a list of SMILES (valid and a few invalid)\n",
    "smiles_list = [\n",
    "    \"CCO\", \"O=C(O)c1ccccc1OC\", \"CN1C=NC2=C1C(=O)N(C(=O)N2C)C\", \n",
    "    \"C([C@@H]([C@@H]([C@H](O)CO)O)O)O\", \"CC(=O)OC1=CC=CC=C1C(=O)O\",\n",
    "    \"CC(C)CC1=CC=C(C=C1)O\", \"C1=CC=C(C=C1)O\", \"C1CCCCC1\", \n",
    "    \"C1=CC=NC(=C1)N\", \"C(CO)NC(C)C\", \"InvalidSMILES123\", \n",
    "    \"C1CCOC1\", \"C1=CN=C2C(=N1)C=NC=N2\", \"NaCl\", \n",
    "    # ... You can add more SMILES. ...\n",
    "]\n",
    "\n",
    "# Generate synthetic solubility based on descriptors\n",
    "data = []\n",
    "for smiles in smiles_list * 10:  # Repeat to create 200+ entries\n",
    "    mol = Chem.MolFromSmiles(smiles)\n",
    "    if mol is not None:\n",
    "        # Calculate descriptors\n",
    "        logp = Descriptors.MolLogP(mol)\n",
    "        mol_wt = Descriptors.MolWt(mol)\n",
    "        h_bond_donors = Descriptors.NumHDonors(mol)\n",
    "        \n",
    "        # Simulate solubility: higher solubility for lower logP, lower molecular weight\n",
    "        solubility = 0.5 - 0.02 * logp + 0.001 * mol_wt - 0.1 * h_bond_donors\n",
    "        solubility += np.random.normal(0, 0.05)  # Add noise\n",
    "        \n",
    "        # Normalize: Clip solubility between 0 and 1\n",
    "        solubility = np.clip(solubility, 0.05, 0.95)\n",
    "        data.append({\"SMILES\": smiles, \"Solubility\": round(solubility, 2)})\n",
    "\n",
    "# Create DataFrame and save\n",
    "df = pd.DataFrame(data)\n",
    "df.to_csv(\"sample_solubility_2.csv\", index=False)"
   ]
  },
  {
   "cell_type": "markdown",
   "metadata": {},
   "source": [
    "## 2. Prepare the data and calculate descriptions\n",
    "The amount of features we import in our file has great impact. \n",
    "Too much features without PCA leads to overfitting. This is what I saw when I imported 3d data in current code.  "
   ]
  },
  {
   "cell_type": "markdown",
   "metadata": {},
   "source": [
    "### Do we have outliers?\n",
    "If the output of the following cell shows many outliers, Robust Scaling is the best choice for normalizing. Otherwise, use Standard Scaling."
   ]
  },
  {
   "cell_type": "code",
   "execution_count": 4,
   "metadata": {},
   "outputs": [
    {
     "name": "stdout",
     "output_type": "stream",
     "text": [
      "the number of outliers per column: MinAbsEStateIndex         10\n",
      "SPS                       30\n",
      "MinPartialCharge          10\n",
      "MaxAbsPartialCharge       10\n",
      "FpDensityMorgan1          10\n",
      "                          ..\n",
      "fr_para_hydroxylation     30\n",
      "fr_phenol                 20\n",
      "fr_phenol_noOrthoHbond    20\n",
      "fr_pyridine               10\n",
      "Solubility                12\n",
      "Length: 81, dtype: int64\n"
     ]
    }
   ],
   "source": [
    "# Load the dataset\n",
    "data = pd.read_csv(\"molecular_descriptors.csv\")\n",
    "\n",
    "# Exclude non-numeric columns (e.g., SMILES, Solubility)\n",
    "numeric_data = data.select_dtypes(include=[np.number])\n",
    "\n",
    "# Detect outliers using IQR\n",
    "Q1 = numeric_data.quantile(0.25)\n",
    "Q3 = numeric_data.quantile(0.75)\n",
    "IQR = Q3 - Q1\n",
    "\n",
    "# Identify outliers\n",
    "outliers = ((numeric_data < (Q1 - 1.5 * IQR)) | (numeric_data > (Q3 + 1.5 * IQR))).sum()\n",
    "\n",
    "# Print the number of outliers per column\n",
    "print(f\"the number of outliers per column: {outliers[outliers > 0]}\")"
   ]
  },
  {
   "cell_type": "code",
   "execution_count": 5,
   "metadata": {},
   "outputs": [
    {
     "name": "stdout",
     "output_type": "stream",
     "text": [
      "Valid molecules: 120\n",
      "Saved descriptors to molecular_descriptors.csv\n"
     ]
    }
   ],
   "source": [
    "from rdkit.Chem import rdMolDescriptors\n",
    "from rdkit.Chem import AllChem\n",
    "\n",
    "# Load the dataset\n",
    "data = pd.read_csv(\"sample_solubility_2.csv\")\n",
    "\n",
    "def get_descriptors(smiles):\n",
    "    mol = Chem.MolFromSmiles(smiles)\n",
    "    if mol:\n",
    "        desc = Descriptors.CalcMolDescriptors(mol)\n",
    "        desc[\"PolarSurfaceArea\"] = rdMolDescriptors.CalcTPSA(mol)  # 2D Descriptor\n",
    "\n",
    "        # Generate 3D Conformer (required for 3D descriptors)\n",
    "        mol = Chem.AddHs(mol)  # Add hydrogens\n",
    "        if AllChem.EmbedMolecule(mol, AllChem.ETKDG()) == 0:  # Ensure embedding succeeds\n",
    "            desc[\"RadiusOfGyration\"] = rdMolDescriptors.CalcRadiusOfGyration(mol)  # 3D Descriptor\n",
    "            desc[\"Asphericity\"] = rdMolDescriptors.CalcAsphericity(mol)  # 3D Descriptor\n",
    "            desc[\"Eccentricity\"] = rdMolDescriptors.CalcEccentricity(mol)  # 3D Descriptor\n",
    "        else:\n",
    "            desc[\"RadiusOfGyration\"] = None\n",
    "            desc[\"Asphericity\"] = None\n",
    "            desc[\"Eccentricity\"] = None\n",
    "\n",
    "        return desc\n",
    "    return None\n",
    "\n",
    "# Apply the function to create a descriptor DataFrame\n",
    "descriptor_list = []\n",
    "for idx, row in data.iterrows():\n",
    "    desc = get_descriptors(row[\"SMILES\"])\n",
    "    if desc is not None:\n",
    "        desc[\"SMILES\"] = row[\"SMILES\"]  # Track valid SMILES\n",
    "        desc[\"Solubility\"] = row[\"Solubility\"]\n",
    "        descriptor_list.append(desc)\n",
    "\n",
    "# Create final DataFrame\n",
    "df = pd.DataFrame(descriptor_list).dropna()\n",
    "print(f\"Valid molecules: {len(df)}\")\n",
    "\n",
    "# Save to CSV\n",
    "df.to_csv(\"molecular_descriptors.csv\", index=False)\n",
    "print(\"Saved descriptors to molecular_descriptors.csv\")\n"
   ]
  },
  {
   "cell_type": "markdown",
   "metadata": {},
   "source": [
    "## 3. Preprocess    \n",
    "Main parts:  \n",
    "1. Split\n",
    "2. Normalize (if didn't in previous part)  \n",
    "Had major problams with this part.  \n",
    "\n",
    "\n",
    "The changes I can make to improve my results:    \n",
    "- remove ouliers: Didn't work well with my sample.  \n",
    "- Selecting best features while omitting others to avoid overfitting. I have to recieve the name of selected features.  \n",
    "- Handle missing values."
   ]
  },
  {
   "cell_type": "code",
   "execution_count": 6,
   "metadata": {},
   "outputs": [],
   "source": [
    "# Load your generated descriptor data\n",
    "df = pd.read_csv(\"molecular_descriptors.csv\")\n",
    "\n",
    "# Split into features (X) and target (y)\n",
    "X = df.drop([\"SMILES\", \"Solubility\"], axis=1)\n",
    "y = df[\"Solubility\"]\n",
    "\n",
    "# Handle missing values (if any)\n",
    "from sklearn.impute import SimpleImputer\n",
    "imputer = SimpleImputer(strategy=\"median\")\n",
    "X = imputer.fit_transform(X)\n",
    "\n",
    "# Split into train/test sets\n",
    "from sklearn.model_selection import train_test_split\n",
    "X_train, X_test, y_train, y_test = train_test_split(X, y, test_size=0.2, random_state=42)"
   ]
  },
  {
   "cell_type": "code",
   "execution_count": 7,
   "metadata": {},
   "outputs": [
    {
     "name": "stdout",
     "output_type": "stream",
     "text": [
      "X_train = (96, 221) , X_test = (24, 221), y_train = (96,), y_test = (24,)\n"
     ]
    }
   ],
   "source": [
    "print(f\"X_train = {X_train.shape} , X_test = {X_test.shape}, y_train = {y_train.shape}, y_test = {y_test.shape}\")"
   ]
  },
  {
   "cell_type": "code",
   "execution_count": 8,
   "metadata": {},
   "outputs": [
    {
     "name": "stdout",
     "output_type": "stream",
     "text": [
      "X_train_scaled = (96, 221) , X_test_scaled = (24, 221)\n"
     ]
    }
   ],
   "source": [
    "# Normalize the data with RobustScaler as we have outliers.\n",
    "\n",
    "from sklearn.preprocessing import RobustScaler\n",
    "\n",
    "# Initialize the scaler\n",
    "scaler = RobustScaler()\n",
    "\n",
    "# Fit and transform the training data\n",
    "X_train_scaled = scaler.fit_transform(X_train)\n",
    "\n",
    "# Transform the test data (if applicable)\n",
    "X_test_scaled = scaler.transform(X_test)\n",
    "\n",
    "# Check the scaling\n",
    "print(f\"X_train_scaled = {X_train_scaled.shape} , X_test_scaled = {X_test_scaled.shape}\")"
   ]
  },
  {
   "cell_type": "markdown",
   "metadata": {},
   "source": [
    "### Feature Selection"
   ]
  },
  {
   "cell_type": "code",
   "execution_count": 9,
   "metadata": {},
   "outputs": [
    {
     "data": {
      "text/plain": [
       "((96, 221), (96, 17))"
      ]
     },
     "execution_count": 9,
     "metadata": {},
     "output_type": "execute_result"
    }
   ],
   "source": [
    "from sklearn.decomposition import PCA\n",
    "\n",
    "#Decreasing the number of features from 221 to the best number of components:\n",
    "pca = PCA(n_components=17)\n",
    "pca.fit(X_train_scaled)\n",
    "\n",
    "X_new_train= pca.transform(X_train_scaled)\n",
    "X_new_test = pca.transform(X_test_scaled)\n",
    "#y_new_train = y_train_clean\n",
    "X_train.shape , X_new_train.shape, #y_new_train.shape\n",
    "#Check the decrease in features"
   ]
  },
  {
   "cell_type": "code",
   "execution_count": 10,
   "metadata": {},
   "outputs": [
    {
     "name": "stdout",
     "output_type": "stream",
     "text": [
      "Feature names loaded from CSV: ['MaxAbsEStateIndex', 'MaxEStateIndex', 'MinAbsEStateIndex', 'MinEStateIndex', 'qed', 'SPS', 'MolWt', 'HeavyAtomMolWt', 'ExactMolWt', 'NumValenceElectrons', 'NumRadicalElectrons', 'MaxPartialCharge', 'MinPartialCharge', 'MaxAbsPartialCharge', 'MinAbsPartialCharge', 'FpDensityMorgan1', 'FpDensityMorgan2', 'FpDensityMorgan3', 'BCUT2D_MWHI', 'BCUT2D_MWLOW', 'BCUT2D_CHGHI', 'BCUT2D_CHGLO', 'BCUT2D_LOGPHI', 'BCUT2D_LOGPLOW', 'BCUT2D_MRHI', 'BCUT2D_MRLOW', 'AvgIpc', 'BalabanJ', 'BertzCT', 'Chi0', 'Chi0n', 'Chi0v', 'Chi1', 'Chi1n', 'Chi1v', 'Chi2n', 'Chi2v', 'Chi3n', 'Chi3v', 'Chi4n', 'Chi4v', 'HallKierAlpha', 'Ipc', 'Kappa1', 'Kappa2', 'Kappa3', 'LabuteASA', 'PEOE_VSA1', 'PEOE_VSA10', 'PEOE_VSA11', 'PEOE_VSA12', 'PEOE_VSA13', 'PEOE_VSA14', 'PEOE_VSA2', 'PEOE_VSA3', 'PEOE_VSA4', 'PEOE_VSA5', 'PEOE_VSA6', 'PEOE_VSA7', 'PEOE_VSA8', 'PEOE_VSA9', 'SMR_VSA1', 'SMR_VSA10', 'SMR_VSA2', 'SMR_VSA3', 'SMR_VSA4', 'SMR_VSA5', 'SMR_VSA6', 'SMR_VSA7', 'SMR_VSA8', 'SMR_VSA9', 'SlogP_VSA1', 'SlogP_VSA10', 'SlogP_VSA11', 'SlogP_VSA12', 'SlogP_VSA2', 'SlogP_VSA3', 'SlogP_VSA4', 'SlogP_VSA5', 'SlogP_VSA6', 'SlogP_VSA7', 'SlogP_VSA8', 'SlogP_VSA9', 'TPSA', 'EState_VSA1', 'EState_VSA10', 'EState_VSA11', 'EState_VSA2', 'EState_VSA3', 'EState_VSA4', 'EState_VSA5', 'EState_VSA6', 'EState_VSA7', 'EState_VSA8', 'EState_VSA9', 'VSA_EState1', 'VSA_EState10', 'VSA_EState2', 'VSA_EState3', 'VSA_EState4', 'VSA_EState5', 'VSA_EState6', 'VSA_EState7', 'VSA_EState8', 'VSA_EState9', 'FractionCSP3', 'HeavyAtomCount', 'NHOHCount', 'NOCount', 'NumAliphaticCarbocycles', 'NumAliphaticHeterocycles', 'NumAliphaticRings', 'NumAmideBonds', 'NumAromaticCarbocycles', 'NumAromaticHeterocycles', 'NumAromaticRings', 'NumAtomStereoCenters', 'NumBridgeheadAtoms', 'NumHAcceptors', 'NumHDonors', 'NumHeteroatoms', 'NumHeterocycles', 'NumRotatableBonds', 'NumSaturatedCarbocycles', 'NumSaturatedHeterocycles', 'NumSaturatedRings', 'NumSpiroAtoms', 'NumUnspecifiedAtomStereoCenters', 'Phi', 'RingCount', 'MolLogP', 'MolMR', 'fr_Al_COO', 'fr_Al_OH', 'fr_Al_OH_noTert', 'fr_ArN', 'fr_Ar_COO', 'fr_Ar_N', 'fr_Ar_NH', 'fr_Ar_OH', 'fr_COO', 'fr_COO2', 'fr_C_O', 'fr_C_O_noCOO', 'fr_C_S', 'fr_HOCCN', 'fr_Imine', 'fr_NH0', 'fr_NH1', 'fr_NH2', 'fr_N_O', 'fr_Ndealkylation1', 'fr_Ndealkylation2', 'fr_Nhpyrrole', 'fr_SH', 'fr_aldehyde', 'fr_alkyl_carbamate', 'fr_alkyl_halide', 'fr_allylic_oxid', 'fr_amide', 'fr_amidine', 'fr_aniline', 'fr_aryl_methyl', 'fr_azide', 'fr_azo', 'fr_barbitur', 'fr_benzene', 'fr_benzodiazepine', 'fr_bicyclic', 'fr_diazo', 'fr_dihydropyridine', 'fr_epoxide', 'fr_ester', 'fr_ether', 'fr_furan', 'fr_guanido', 'fr_halogen', 'fr_hdrzine', 'fr_hdrzone', 'fr_imidazole', 'fr_imide', 'fr_isocyan', 'fr_isothiocyan', 'fr_ketone', 'fr_ketone_Topliss', 'fr_lactam', 'fr_lactone', 'fr_methoxy', 'fr_morpholine', 'fr_nitrile', 'fr_nitro', 'fr_nitro_arom', 'fr_nitro_arom_nonortho', 'fr_nitroso', 'fr_oxazole', 'fr_oxime', 'fr_para_hydroxylation', 'fr_phenol', 'fr_phenol_noOrthoHbond', 'fr_phos_acid', 'fr_phos_ester', 'fr_piperdine', 'fr_piperzine', 'fr_priamide', 'fr_prisulfonamd', 'fr_pyridine', 'fr_quatN', 'fr_sulfide', 'fr_sulfonamd', 'fr_sulfone', 'fr_term_acetylene', 'fr_tetrazole', 'fr_thiazole', 'fr_thiocyan', 'fr_thiophene', 'fr_unbrch_alkane', 'fr_urea', 'PolarSurfaceArea', 'RadiusOfGyration', 'Asphericity', 'Eccentricity']\n"
     ]
    }
   ],
   "source": [
    "# Load feature names from molecular_description.csv\n",
    "file_path = \"molecular_descriptors.csv\"  \n",
    "molecular_data = pd.read_csv(file_path)\n",
    "\n",
    "# Extract feature names from the CSV file\n",
    "feature_names = molecular_data.columns[:-2].tolist()  # Exclude the last two columns\n",
    "print(\"Feature names loaded from CSV:\", feature_names)"
   ]
  },
  {
   "cell_type": "code",
   "execution_count": 11,
   "metadata": {},
   "outputs": [
    {
     "name": "stdout",
     "output_type": "stream",
     "text": [
      "Selected features for PCA: ['MaxAbsEStateIndex', 'MaxEStateIndex', 'MinAbsEStateIndex', 'MinEStateIndex', 'qed', 'SPS', 'MolWt', 'HeavyAtomMolWt', 'ExactMolWt', 'NumValenceElectrons', 'NumRadicalElectrons', 'MaxPartialCharge', 'MinPartialCharge', 'MaxAbsPartialCharge', 'MinAbsPartialCharge', 'FpDensityMorgan1', 'FpDensityMorgan2', 'FpDensityMorgan3', 'BCUT2D_MWHI', 'BCUT2D_MWLOW', 'BCUT2D_CHGHI', 'BCUT2D_CHGLO', 'BCUT2D_LOGPHI', 'BCUT2D_LOGPLOW', 'BCUT2D_MRHI', 'BCUT2D_MRLOW', 'AvgIpc', 'BalabanJ', 'BertzCT', 'Chi0', 'Chi0n', 'Chi0v', 'Chi1', 'Chi1n', 'Chi1v', 'Chi2n', 'Chi2v', 'Chi3n', 'Chi3v', 'Chi4n', 'Chi4v', 'HallKierAlpha', 'Ipc', 'Kappa1', 'Kappa2', 'Kappa3', 'LabuteASA', 'PEOE_VSA1', 'PEOE_VSA10', 'PEOE_VSA11', 'PEOE_VSA13', 'PEOE_VSA14', 'PEOE_VSA2', 'PEOE_VSA3', 'PEOE_VSA6', 'PEOE_VSA7', 'PEOE_VSA8', 'PEOE_VSA9', 'SMR_VSA1', 'SMR_VSA10', 'SMR_VSA3', 'SMR_VSA4', 'SMR_VSA5', 'SMR_VSA6', 'SMR_VSA7', 'SMR_VSA9', 'SlogP_VSA1', 'SlogP_VSA10', 'SlogP_VSA11', 'SlogP_VSA2', 'SlogP_VSA3', 'SlogP_VSA4', 'SlogP_VSA5', 'SlogP_VSA6', 'SlogP_VSA8', 'TPSA', 'EState_VSA1', 'EState_VSA10', 'EState_VSA2', 'EState_VSA3', 'EState_VSA4', 'EState_VSA5', 'EState_VSA6', 'EState_VSA7', 'EState_VSA8', 'EState_VSA9', 'VSA_EState1', 'VSA_EState2', 'VSA_EState3', 'VSA_EState4', 'VSA_EState5', 'VSA_EState6', 'VSA_EState7', 'VSA_EState8', 'VSA_EState9', 'FractionCSP3', 'HeavyAtomCount', 'NHOHCount', 'NOCount', 'NumAliphaticCarbocycles', 'NumAliphaticHeterocycles', 'NumAliphaticRings', 'NumAromaticCarbocycles', 'NumAromaticHeterocycles', 'NumAromaticRings', 'NumAtomStereoCenters', 'NumHAcceptors', 'NumHDonors', 'NumHeteroatoms', 'NumHeterocycles', 'NumRotatableBonds', 'NumSaturatedCarbocycles', 'NumSaturatedHeterocycles', 'NumSaturatedRings', 'Phi', 'RingCount', 'MolLogP', 'MolMR', 'fr_Al_OH', 'fr_Al_OH_noTert', 'fr_ArN', 'fr_Ar_COO', 'fr_Ar_N', 'fr_Ar_OH', 'fr_COO', 'fr_COO2', 'fr_C_O', 'fr_C_O_noCOO', 'fr_NH0', 'fr_NH1', 'fr_NH2', 'fr_aniline', 'fr_aryl_methyl', 'fr_benzene', 'fr_bicyclic', 'fr_ester', 'fr_ether', 'fr_imidazole', 'fr_methoxy', 'fr_para_hydroxylation', 'fr_phenol', 'fr_phenol_noOrthoHbond', 'fr_pyridine', 'PolarSurfaceArea', 'RadiusOfGyration', 'Asphericity', 'Eccentricity']\n"
     ]
    }
   ],
   "source": [
    "def get_pca_selected_features(pca, feature_names):\n",
    "    \n",
    "    # Get the absolute values of PCA components to determine feature importance\n",
    "    components = pd.DataFrame(\n",
    "        pca.components_,\n",
    "        columns=feature_names,\n",
    "        index=[f\"PC{i+1}\" for i in range(pca.n_components_)]\n",
    "    )\n",
    "    \n",
    "    # Identify features with non-zero contributions across all components\n",
    "    selected_features = components.columns[(components.abs().sum(axis=0) > 0)].tolist()\n",
    "    \n",
    "    return selected_features\n",
    "\n",
    "# Example usage\n",
    "# Assuming `pca` is your trained PCA object and `feature_names` is the list of original feature names\n",
    "selected_features = get_pca_selected_features(pca, feature_names)\n",
    "print(\"Selected features for PCA:\", selected_features)"
   ]
  },
  {
   "cell_type": "markdown",
   "metadata": {},
   "source": [
    "## 4. Training the model\n",
    "I used GridSearchCV to optimize the parameters of my randomforest model."
   ]
  },
  {
   "cell_type": "code",
   "execution_count": 18,
   "metadata": {},
   "outputs": [
    {
     "name": "stdout",
     "output_type": "stream",
     "text": [
      "Best Parameters: {'max_depth': 20, 'max_features': 0.5, 'min_samples_leaf': 1, 'min_samples_split': 5, 'n_estimators': 200}\n"
     ]
    }
   ],
   "source": [
    "from sklearn.ensemble import RandomForestRegressor\n",
    "from sklearn.model_selection import GridSearchCV\n",
    "\n",
    "# Define parameter grid:\n",
    "# If it took so long to run, you can reduce the number of parameters.\n",
    "param_grid = {\n",
    "    'n_estimators': [200, 300],\n",
    "    'max_depth': [10, 20, None],\n",
    "    'min_samples_leaf': [1, 2, 4],\n",
    "    'min_samples_split': [2, 5, 10],\n",
    "    'max_features': ['sqrt', 0.5]\n",
    "}\n",
    "\n",
    "# Initialize and fit grid search\n",
    "model = RandomForestRegressor(random_state=0)\n",
    "grid_search = GridSearchCV(model, param_grid, cv=3, scoring='neg_root_mean_squared_error', error_score='raise')\n",
    "grid_search.fit(X_new_train, y_train)\n",
    "\n",
    "# Get best model\n",
    "best_model = grid_search.best_estimator_\n",
    "print(\"Best Parameters:\", grid_search.best_params_)\n",
    "\n",
    "# Now use best_model for predictions\n",
    "best_model.fit(X_new_train, y_train)\n",
    "\n",
    "# Predict solubilities\n",
    "y_pred_train_rf = best_model.predict(X_new_train)\n",
    "y_pred_test_rf = best_model.predict(X_new_test)"
   ]
  },
  {
   "cell_type": "markdown",
   "metadata": {},
   "source": [
    "### Save and load the model\n",
    "Why Save the Model?\n",
    "- **Consistency**: Saving the model ensures that you can reuse the same trained model without retraining, which avoids variations in results due to randomness.  \n",
    "\n",
    "\n",
    "- **Efficiency**: Loading a saved model is faster than retraining it every time."
   ]
  },
  {
   "cell_type": "code",
   "execution_count": 26,
   "metadata": {},
   "outputs": [
    {
     "name": "stdout",
     "output_type": "stream",
     "text": [
      "Model saved as best_model.pkl\n"
     ]
    }
   ],
   "source": [
    "# Save the best model\n",
    "import joblib\n",
    "\n",
    "joblib.dump(best_model, \"best_model.pkl\")\n",
    "print(\"Model saved as best_model.pkl\")"
   ]
  },
  {
   "cell_type": "code",
   "execution_count": null,
   "metadata": {},
   "outputs": [],
   "source": [
    "# Load the saved model\n",
    "best_model = joblib.load(\"best_model.pkl\")\n",
    "print(\"Model loaded successfully.\")"
   ]
  },
  {
   "cell_type": "markdown",
   "metadata": {},
   "source": [
    "### Let's spice up with adding other models for comparison"
   ]
  },
  {
   "cell_type": "code",
   "execution_count": 13,
   "metadata": {},
   "outputs": [],
   "source": [
    "from sklearn.linear_model import LinearRegression\n",
    "\n",
    "model_lr = LinearRegression()\n",
    "model_lr.fit(X_new_train, y_train)\n",
    "\n",
    "y_pred_train_lr = model_lr.predict(X_new_train)\n",
    "y_pred_test_lr = model_lr.predict(X_new_test)"
   ]
  },
  {
   "cell_type": "code",
   "execution_count": 14,
   "metadata": {},
   "outputs": [],
   "source": [
    "from sklearn.tree import DecisionTreeRegressor\n",
    "\n",
    "model_dt = DecisionTreeRegressor(random_state=42)\n",
    "model_dt.fit(X_new_train, y_train)\n",
    "\n",
    "y_pred_train_dt = model_dt.predict(X_new_train)\n",
    "y_pred_test_dt = model_dt.predict(X_new_test)\n"
   ]
  },
  {
   "cell_type": "code",
   "execution_count": 15,
   "metadata": {},
   "outputs": [],
   "source": [
    "from sklearn.neighbors import KNeighborsRegressor\n",
    "\n",
    "model_knn = KNeighborsRegressor(n_neighbors=8)\n",
    "model_knn.fit(X_new_train, y_train)\n",
    "\n",
    "y_pred_train_knn = model_knn.predict(X_new_train)\n",
    "y_pred_test_knn = model_knn.predict(X_new_test)\n"
   ]
  },
  {
   "cell_type": "code",
   "execution_count": 16,
   "metadata": {},
   "outputs": [],
   "source": [
    "from sklearn.ensemble import GradientBoostingRegressor\n",
    "\n",
    "model_gb = GradientBoostingRegressor(n_estimators=100, random_state=42)\n",
    "model_gb.fit(X_new_train, y_train)\n",
    "y_pred_train_gb = model_gb.predict(X_new_train)\n",
    "y_pred_test_gb = model_gb.predict(X_new_test)"
   ]
  },
  {
   "cell_type": "code",
   "execution_count": 17,
   "metadata": {},
   "outputs": [],
   "source": [
    "from sklearn.svm import SVR\n",
    "\n",
    "model_svr = SVR()\n",
    "model_svr.fit(X_new_train, y_train)\n",
    "y_pred_train_svr = model_svr.predict(X_new_train)\n",
    "y_pred_test_svr = model_svr.predict(X_new_test)"
   ]
  },
  {
   "cell_type": "markdown",
   "metadata": {},
   "source": [
    "### In Case of running into bugs, Check these cells. Oherwise skip them."
   ]
  },
  {
   "cell_type": "code",
   "execution_count": 39,
   "metadata": {},
   "outputs": [
    {
     "name": "stdout",
     "output_type": "stream",
     "text": [
      "float64\n",
      "float64\n"
     ]
    }
   ],
   "source": [
    "#Verify Data Types\n",
    "print(y_train.dtype)  # Should output `float64` or `int64`\n",
    "print(y_test.dtype)   # Should not output `object`"
   ]
  },
  {
   "cell_type": "raw",
   "metadata": {
    "vscode": {
     "languageId": "raw"
    }
   },
   "source": [
    "# Fix during data loading\n",
    "#If your Solubility column is read as strings (due to invalid entries in the CSV), convert it:\n",
    "df = pd.read_csv(\"sample_solubility.csv\")\n",
    "df[\"Solubility\"] = pd.to_numeric(df[\"Solubility\"], errors=\"coerce\")  # Convert to numeric\n",
    "df = df.dropna(subset=[\"Solubility\"])  # Drop invalid rows"
   ]
  },
  {
   "cell_type": "code",
   "execution_count": 40,
   "metadata": {},
   "outputs": [
    {
     "name": "stdout",
     "output_type": "stream",
     "text": [
      "<class 'numpy.ndarray'>\n"
     ]
    }
   ],
   "source": [
    "print(type(X_train))  # If it's a DataFrame, use .values. If it's an array, skip.\n",
    "\n",
    "# .values:\n",
    "#Ensure Input Shapes\n",
    "# Check that X_train, X_test, y_train, and y_test are NumPy arrays or Pandas DataFrames (not lists or other objects):\n",
    "# Convert to NumPy arrays if needed\n",
    "#X_train = X_train.values\n",
    "#X_test = X_test.values\n",
    "#y_train = y_train.values.ravel()  # Flatten to 1D array\n",
    "#y_test = y_test.values.ravel()"
   ]
  },
  {
   "cell_type": "markdown",
   "metadata": {},
   "source": [
    "## 5. Evaluate"
   ]
  },
  {
   "cell_type": "markdown",
   "metadata": {},
   "source": [
    "- RMSE (Root Mean Squared Error): Measures the average prediction error (lower = better).  \n",
    "Example: RMSE = 0.5 means predictions are off by ~0.5 units (e.g., logS) on average.<br>\n",
    "<br> \n",
    "\n",
    "- R² (R-squared): Measures how much variance your model explains (1 = perfect, 0 = no better than the mean). <br>Train R² ≈ Test R² (e.g., Train R² = 0.85, Test R² = 0.80). Test R² ≥ 0.7 is often good."
   ]
  },
  {
   "cell_type": "code",
   "execution_count": 19,
   "metadata": {},
   "outputs": [],
   "source": [
    "# Here I define a function to find these metrics easier later.\n",
    "\n",
    "from sklearn.metrics import mean_squared_error, r2_score, mean_absolute_error\n",
    "\n",
    "# Let's define a function that works for testing each regression model.\n",
    "def calculate_regression_metrics(y_train, y_test, y_pred_train, y_pred_test):\n",
    "    # Calculate metrics for training set\n",
    "    mse_train = mean_squared_error(y_train, y_pred_train)\n",
    "    rmse_train = np.sqrt(mse_train)  # Compute RMSE manually\n",
    "    #rmse_train = mean_squared_error(y_train, y_pred_train, squared=False)\n",
    "    r2_train = r2_score(y_train, y_pred_train)\n",
    "    \n",
    "    # Calculate metrics for test set\n",
    "    mse_test = mean_squared_error(y_test, y_pred_test)\n",
    "    rmse_test = np.sqrt(mse_test)  # Compute RMSE manually\n",
    "    #rmse_test = mean_squared_error(y_test, y_pred_test, squared=False)\n",
    "    r2_test = r2_score(y_test, y_pred_test)\n",
    "    \n",
    "    print(f\"Train RMSE: {rmse_train:.2f}, Train R²: {r2_train:.2f}\")\n",
    "    print(f\"Test RMSE: {rmse_test:.2f}, Test R²: {r2_test:.2f}\")\n",
    "\n",
    "    return rmse_train, rmse_test, r2_train, r2_test"
   ]
  },
  {
   "cell_type": "code",
   "execution_count": 20,
   "metadata": {},
   "outputs": [
    {
     "name": "stdout",
     "output_type": "stream",
     "text": [
      "🔷 Random Forest Regressor\n",
      "Best Parameters: {'max_depth': 20, 'max_features': 0.5, 'min_samples_leaf': 1, 'min_samples_split': 5, 'n_estimators': 200}\n",
      "Train RMSE: 0.03, Train R²: 0.95\n",
      "Test RMSE: 0.05, Test R²: 0.72\n",
      "\n",
      "🔷 Linear Regression\n",
      "Train RMSE: 0.05, Train R²: 0.86\n",
      "Test RMSE: 0.06, Test R²: 0.64\n",
      "\n",
      "🔷 Decision Tree Regressor\n",
      "Train RMSE: 0.00, Train R²: 1.00\n",
      "Test RMSE: 0.05, Test R²: 0.66\n",
      "\n",
      "🔷 Gradient Boosting Regressor\n",
      "Train RMSE: 0.02, Train R²: 0.98\n",
      "Test RMSE: 0.05, Test R²: 0.70\n",
      "\n",
      "🔷 Support Vector Regressor\n",
      "Train RMSE: 0.06, Train R²: 0.80\n",
      "Test RMSE: 0.06, Test R²: 0.58\n",
      "\n",
      "🔷 K-Nearest Neighbors Regressor\n",
      "Train RMSE: 0.05, Train R²: 0.85\n",
      "Test RMSE: 0.06, Test R²: 0.57\n"
     ]
    }
   ],
   "source": [
    "# Evaluate Random Forest Regressor\n",
    "print(\"🔷 Random Forest Regressor\")\n",
    "print(\"Best Parameters:\", grid_search.best_params_)\n",
    "train_rmse_rf, test_rmse_rf, train_r2_rf, test_r2_rf = calculate_regression_metrics(\n",
    "    y_train, y_test, y_pred_train_rf, y_pred_test_rf\n",
    ")\n",
    "\n",
    "# Evaluate Linear Regression\n",
    "print(\"\\n🔷 Linear Regression\")\n",
    "train_rmse_lr, test_rmse_lr, train_r2_lr, test_r2_lr = calculate_regression_metrics(\n",
    "    y_train, y_test, y_pred_train_lr, y_pred_test_lr\n",
    ")\n",
    "\n",
    "# Evaluate Decision Tree Regressor\n",
    "print(\"\\n🔷 Decision Tree Regressor\")\n",
    "train_rmse_dt, test_rmse_dt, train_r2_dt, test_r2_dt = calculate_regression_metrics(\n",
    "    y_train, y_test, y_pred_train_dt, y_pred_test_dt\n",
    ")\n",
    "\n",
    "# Evaluate Gradient Boosting Regressor\n",
    "print(\"\\n🔷 Gradient Boosting Regressor\")\n",
    "train_rmse_gb, test_rmse_gb, train_r2_gb, test_r2_gb = calculate_regression_metrics(\n",
    "    y_train, y_test, y_pred_train_gb, y_pred_test_gb\n",
    ")\n",
    "\n",
    "# Evaluate Support Vector Regressor\n",
    "print(\"\\n🔷 Support Vector Regressor\")\n",
    "train_rmse_svr, test_rmse_svr, train_r2_svr, test_r2_svr = calculate_regression_metrics(\n",
    "    y_train, y_test, y_pred_train_svr, y_pred_test_svr\n",
    ")\n",
    "\n",
    "# Evaluate K-Nearest Neighbors Regressor\n",
    "print(\"\\n🔷 K-Nearest Neighbors Regressor\")\n",
    "train_rmse_knn, test_rmse_knn, train_r2_knn, test_r2_knn = calculate_regression_metrics(\n",
    "    y_train, y_test, y_pred_train_knn, y_pred_test_knn\n",
    ")\n"
   ]
  },
  {
   "cell_type": "code",
   "execution_count": null,
   "metadata": {},
   "outputs": [
    {
     "data": {
      "image/png": "[encoded data removed]",
      "text/plain": [
       "<Figure size 640x480 with 1 Axes>"
      ]
     },
     "metadata": {},
     "output_type": "display_data"
    }
   ],
   "source": [
    "# Compare test R2 on a plot:\n",
    "\n",
    "import matplotlib.pyplot as plt\n",
    "\n",
    "r2_test = [test_r2_rf, test_r2_dt, test_r2_lr, test_r2_gb, test_r2_svr, test_r2_knn]\n",
    "\n",
    "title = ['RF', 'DT', 'LR', 'GB', 'SVR', 'KNN']\n",
    "\n",
    "colors = ['red', 'blue', 'green', 'gray', 'purple', 'yellow']\n",
    "\n",
    "plt.bar(title, r2_test, color=colors)\n",
    "plt.grid()\n",
    "plt.show()"
   ]
  },
  {
   "cell_type": "markdown",
   "metadata": {},
   "source": [
    "The Evaluation shows that this model is not efficient enough. It might be due small sample size or inapropriate ML algorithm."
   ]
  },
  {
   "cell_type": "markdown",
   "metadata": {},
   "source": [
    "### You can change the number of PCA components(features) if the model is overfitting.\n",
    "1. Use the number you recieve as number of PCA components in the following cell in the pca = PCA(n_components=17)\n",
    "2. Run the model and Evaluate again"
   ]
  },
  {
   "cell_type": "code",
   "execution_count": 43,
   "metadata": {},
   "outputs": [
    {
     "name": "stdout",
     "output_type": "stream",
     "text": [
      "Best number of PCA components: 19\n"
     ]
    }
   ],
   "source": [
    "# Finding the best number of PCA components(features).\n",
    "from sklearn.decomposition import PCA\n",
    "from sklearn.model_selection import cross_val_score\n",
    "\n",
    "best_score = -1\n",
    "for n in range(5, 21):  # Test PCA components from 5 to 20\n",
    "    pca = PCA(n_components=n)\n",
    "    X_train_pca = pca.fit_transform(X_train_scaled)\n",
    "    scores = cross_val_score(model, X_train_pca, y_train, cv=5, scoring='r2')\n",
    "    if scores.mean() > best_score:\n",
    "        best_score = scores.mean()\n",
    "        best_n = n\n",
    "\n",
    "print(f\"Best number of PCA components: {best_n}\")"
   ]
  }
 ],
 "metadata": {
  "kernelspec": {
   "display_name": "base",
   "language": "python",
   "name": "python3"
  },
  "language_info": {
   "codemirror_mode": {
    "name": "ipython",
    "version": 3
   },
   "file_extension": ".py",
   "mimetype": "text/x-python",
   "name": "python",
   "nbconvert_exporter": "python",
   "pygments_lexer": "ipython3",
   "version": "3.12.9"
  }
 },
 "nbformat": 4,
 "nbformat_minor": 2
}
